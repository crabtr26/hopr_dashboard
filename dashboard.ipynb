{
 "cells": [
  {
   "cell_type": "markdown",
   "id": "cd3aa033",
   "metadata": {},
   "source": [
    "# HOPR Trading Patterns\n",
    "___"
   ]
  },
  {
   "cell_type": "code",
   "execution_count": 20,
   "id": "47a2f30e",
   "metadata": {},
   "outputs": [],
   "source": [
    "from plot import generate_figure_table\n",
    "\n",
    "figure_table = generate_figure_table()"
   ]
  },
  {
   "cell_type": "markdown",
   "id": "b448457a",
   "metadata": {},
   "source": [
    "## Volume and Transaction Count by Weekday"
   ]
  },
  {
   "cell_type": "code",
   "execution_count": 21,
   "id": "9a9c421e",
   "metadata": {},
   "outputs": [
    {
     "data": {
      "application/vnd.jupyter.widget-view+json": {
       "model_id": "d97df6b25bca492abf9186d925bfef66",
       "version_major": 2,
       "version_minor": 0
      },
      "text/plain": [
       "FigureWidget({\n",
       "    'data': [{'name': 'Volume (HOPR)',\n",
       "              'text': [20676031.313107308, 13952336.7576…"
      ]
     },
     "metadata": {},
     "output_type": "display_data"
    }
   ],
   "source": [
    "figure_table['Weekday']['Bar']"
   ]
  },
  {
   "cell_type": "code",
   "execution_count": 22,
   "id": "9cb945fb",
   "metadata": {},
   "outputs": [
    {
     "data": {
      "application/vnd.jupyter.widget-view+json": {
       "model_id": "0ad44748306643488eb8fe826648dbf0",
       "version_major": 2,
       "version_minor": 0
      },
      "text/plain": [
       "FigureWidget({\n",
       "    'data': [{'mode': 'lines+markers',\n",
       "              'name': 'Volume (HOPR)',\n",
       "              'te…"
      ]
     },
     "metadata": {},
     "output_type": "display_data"
    }
   ],
   "source": [
    "figure_table['Weekday']['Line']"
   ]
  },
  {
   "cell_type": "markdown",
   "id": "b2b07d94",
   "metadata": {},
   "source": [
    "## Volume and Transaction Count by Hour"
   ]
  },
  {
   "cell_type": "code",
   "execution_count": 14,
   "id": "025c931b",
   "metadata": {},
   "outputs": [
    {
     "data": {
      "application/vnd.jupyter.widget-view+json": {
       "model_id": "6b2d7f4680864d36acb2331291a064ca",
       "version_major": 2,
       "version_minor": 0
      },
      "text/plain": [
       "FigureWidget({\n",
       "    'data': [{'name': 'Volume (HOPR)',\n",
       "              'text': [2314572.199982404, 2092926.763032…"
      ]
     },
     "metadata": {},
     "output_type": "display_data"
    }
   ],
   "source": [
    "figure_table['Hour']['Bar']"
   ]
  },
  {
   "cell_type": "code",
   "execution_count": 23,
   "id": "20af018f",
   "metadata": {},
   "outputs": [
    {
     "data": {
      "application/vnd.jupyter.widget-view+json": {
       "model_id": "45f6b889fb3a41ed9e68aaf0ff3ba4f0",
       "version_major": 2,
       "version_minor": 0
      },
      "text/plain": [
       "FigureWidget({\n",
       "    'data': [{'mode': 'lines+markers',\n",
       "              'name': 'Volume (HOPR)',\n",
       "              'te…"
      ]
     },
     "metadata": {},
     "output_type": "display_data"
    }
   ],
   "source": [
    "figure_table['Hour']['Line']"
   ]
  },
  {
   "cell_type": "markdown",
   "id": "986e1503",
   "metadata": {},
   "source": [
    "## Volume and Transaction Count by Weekday and Hour"
   ]
  },
  {
   "cell_type": "code",
   "execution_count": 15,
   "id": "840d8c73",
   "metadata": {},
   "outputs": [
    {
     "data": {
      "application/vnd.jupyter.widget-view+json": {
       "model_id": "1dc59a0d23d4463f8d093254fa285a5d",
       "version_major": 2,
       "version_minor": 0
      },
      "text/plain": [
       "FigureWidget({\n",
       "    'data': [{'name': 'Volume (HOPR)',\n",
       "              'text': [172441.24547490268, 344464.080357…"
      ]
     },
     "metadata": {},
     "output_type": "display_data"
    }
   ],
   "source": [
    "figure_table['Weekday + Hour']['Bar']"
   ]
  },
  {
   "cell_type": "code",
   "execution_count": 24,
   "id": "fc5aa8fa",
   "metadata": {},
   "outputs": [
    {
     "data": {
      "application/vnd.jupyter.widget-view+json": {
       "model_id": "cb9eeb6835d5499cb7c03a758f78a7d4",
       "version_major": 2,
       "version_minor": 0
      },
      "text/plain": [
       "FigureWidget({\n",
       "    'data': [{'mode': 'lines+markers',\n",
       "              'name': 'Volume (HOPR)',\n",
       "              'te…"
      ]
     },
     "metadata": {},
     "output_type": "display_data"
    }
   ],
   "source": [
    "figure_table['Weekday + Hour']['Line']"
   ]
  }
 ],
 "metadata": {
  "kernelspec": {
   "display_name": "Python (dev)",
   "language": "python",
   "name": "dev"
  },
  "language_info": {
   "codemirror_mode": {
    "name": "ipython",
    "version": 3
   },
   "file_extension": ".py",
   "mimetype": "text/x-python",
   "name": "python",
   "nbconvert_exporter": "python",
   "pygments_lexer": "ipython3",
   "version": "3.8.10"
  },
  "toc-autonumbering": false,
  "toc-showcode": false,
  "toc-showmarkdowntxt": false,
  "toc-showtags": false
 },
 "nbformat": 4,
 "nbformat_minor": 5
}
