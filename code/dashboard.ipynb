{
 "cells": [
  {
   "cell_type": "markdown",
   "id": "cd3aa033",
   "metadata": {},
   "source": [
    "# HOPR Trading Patterns\n",
    "___"
   ]
  },
  {
   "cell_type": "code",
   "execution_count": 1,
   "id": "47a2f30e",
   "metadata": {},
   "outputs": [],
   "source": [
    "from plot import generate_figure_table\n",
    "\n",
    "figure_table = generate_figure_table()"
   ]
  },
  {
   "cell_type": "markdown",
   "id": "b448457a",
   "metadata": {},
   "source": [
    "## Volume and Transaction Count by Weekday"
   ]
  },
  {
   "cell_type": "code",
   "execution_count": 2,
   "id": "9a9c421e",
   "metadata": {},
   "outputs": [
    {
     "data": {
      "application/vnd.jupyter.widget-view+json": {
       "model_id": "4a00733ef17f446d8851906c1e8aecc5",
       "version_major": 2,
       "version_minor": 0
      },
      "text/plain": [
       "FigureWidget({\n",
       "    'data': [{'name': 'Volume (HOPR)',\n",
       "              'text': [20676031.313107308, 13952336.7576…"
      ]
     },
     "metadata": {},
     "output_type": "display_data"
    }
   ],
   "source": [
    "figure_table['Weekday']['Bar']"
   ]
  },
  {
   "cell_type": "code",
   "execution_count": 3,
   "id": "9cb945fb",
   "metadata": {},
   "outputs": [
    {
     "data": {
      "application/vnd.jupyter.widget-view+json": {
       "model_id": "2eaf1cd3ae034ec88c7e70dc147d0a99",
       "version_major": 2,
       "version_minor": 0
      },
      "text/plain": [
       "FigureWidget({\n",
       "    'data': [{'mode': 'lines+markers',\n",
       "              'name': 'Volume (HOPR)',\n",
       "              'te…"
      ]
     },
     "metadata": {},
     "output_type": "display_data"
    }
   ],
   "source": [
    "figure_table['Weekday']['Line']"
   ]
  },
  {
   "cell_type": "markdown",
   "id": "b2b07d94",
   "metadata": {},
   "source": [
    "## Volume and Transaction Count by Hour"
   ]
  },
  {
   "cell_type": "code",
   "execution_count": 4,
   "id": "025c931b",
   "metadata": {},
   "outputs": [
    {
     "data": {
      "application/vnd.jupyter.widget-view+json": {
       "model_id": "012dcc1af01f464695d6a304e0e5d57d",
       "version_major": 2,
       "version_minor": 0
      },
      "text/plain": [
       "FigureWidget({\n",
       "    'data': [{'name': 'Volume (HOPR)',\n",
       "              'text': [2314572.199982404, 2092926.763032…"
      ]
     },
     "metadata": {},
     "output_type": "display_data"
    }
   ],
   "source": [
    "figure_table['Hour']['Bar']"
   ]
  },
  {
   "cell_type": "code",
   "execution_count": 5,
   "id": "20af018f",
   "metadata": {},
   "outputs": [
    {
     "data": {
      "application/vnd.jupyter.widget-view+json": {
       "model_id": "fdee11e42b4445e9855b1e19577e03eb",
       "version_major": 2,
       "version_minor": 0
      },
      "text/plain": [
       "FigureWidget({\n",
       "    'data': [{'mode': 'lines+markers',\n",
       "              'name': 'Volume (HOPR)',\n",
       "              'te…"
      ]
     },
     "metadata": {},
     "output_type": "display_data"
    }
   ],
   "source": [
    "figure_table['Hour']['Line']"
   ]
  },
  {
   "cell_type": "markdown",
   "id": "986e1503",
   "metadata": {},
   "source": [
    "## Volume and Transaction Count by Weekday and Hour"
   ]
  },
  {
   "cell_type": "code",
   "execution_count": 6,
   "id": "840d8c73",
   "metadata": {},
   "outputs": [
    {
     "data": {
      "application/vnd.jupyter.widget-view+json": {
       "model_id": "d4ba25098582461abac68f52ffd02566",
       "version_major": 2,
       "version_minor": 0
      },
      "text/plain": [
       "FigureWidget({\n",
       "    'data': [{'name': 'Volume (HOPR)',\n",
       "              'text': [172441.24547490268, 344464.080357…"
      ]
     },
     "metadata": {},
     "output_type": "display_data"
    }
   ],
   "source": [
    "figure_table['Weekday + Hour']['Bar']"
   ]
  },
  {
   "cell_type": "code",
   "execution_count": 7,
   "id": "fc5aa8fa",
   "metadata": {},
   "outputs": [
    {
     "data": {
      "application/vnd.jupyter.widget-view+json": {
       "model_id": "838bd85d56aa4788b27963d047672906",
       "version_major": 2,
       "version_minor": 0
      },
      "text/plain": [
       "FigureWidget({\n",
       "    'data': [{'mode': 'lines+markers',\n",
       "              'name': 'Volume (HOPR)',\n",
       "              'te…"
      ]
     },
     "metadata": {},
     "output_type": "display_data"
    }
   ],
   "source": [
    "figure_table['Weekday + Hour']['Line']"
   ]
  }
 ],
 "metadata": {
  "kernelspec": {
   "display_name": "Python (dev)",
   "language": "python",
   "name": "dev"
  },
  "language_info": {
   "codemirror_mode": {
    "name": "ipython",
    "version": 3
   },
   "file_extension": ".py",
   "mimetype": "text/x-python",
   "name": "python",
   "nbconvert_exporter": "python",
   "pygments_lexer": "ipython3",
   "version": "3.8.10"
  },
  "toc-autonumbering": false,
  "toc-showcode": false,
  "toc-showmarkdowntxt": false,
  "toc-showtags": false
 },
 "nbformat": 4,
 "nbformat_minor": 5
}
